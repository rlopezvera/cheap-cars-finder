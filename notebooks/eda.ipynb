{
 "cells": [
  {
   "cell_type": "code",
   "execution_count": 1,
   "metadata": {},
   "outputs": [
    {
     "data": {
      "text/plain": [
       "polars.config.Config"
      ]
     },
     "execution_count": 1,
     "metadata": {},
     "output_type": "execute_result"
    }
   ],
   "source": [
    "import libsql_client\n",
    "\n",
    "import polars as pl\n",
    "import polars.selectors as cs\n",
    "import pandas as pd\n",
    "import os\n",
    "from dotenv import load_dotenv\n",
    "\n",
    "import datetime\n",
    "\n",
    "from utils.maps import CLEANED_BRAND_NAMES, BRAND_PREMIUM_STATUS, BRANDS_COUNTRY_CONTINENT\n",
    "\n",
    "pl.Config.set_fmt_str_lengths(100)"
   ]
  },
  {
   "cell_type": "code",
   "execution_count": 2,
   "metadata": {},
   "outputs": [
    {
     "data": {
      "text/plain": [
       "True"
      ]
     },
     "execution_count": 2,
     "metadata": {},
     "output_type": "execute_result"
    }
   ],
   "source": [
    "load_dotenv()"
   ]
  },
  {
   "cell_type": "code",
   "execution_count": 3,
   "metadata": {},
   "outputs": [],
   "source": [
    "\n",
    "url = os.environ.get(\"DB_URL\")\n",
    "auth_token = os.environ.get(\"DB_AUTH_TOKEN\")\n",
    "\n",
    "if not url or not auth_token:\n",
    "    raise ValueError(\"DB_URL or AUTH_TOKEN not found in .env\")\n",
    "\n",
    "client = libsql_client.create_client(\n",
    "    url=url,\n",
    "    auth_token=auth_token,\n",
    ")"
   ]
  },
  {
   "cell_type": "code",
   "execution_count": 4,
   "metadata": {},
   "outputs": [],
   "source": [
    "results = await client.execute(\"\"\"\n",
    "select * from cars\n",
    "\"\"\")"
   ]
  },
  {
   "cell_type": "code",
   "execution_count": 5,
   "metadata": {},
   "outputs": [],
   "source": [
    "xd = list(zip(*results.rows))\n",
    "\n",
    "data = {\n",
    "    col: row for i, (row, col)  in enumerate(zip(xd, results.columns))\n",
    "}\n",
    "\n",
    "pldf = pl.DataFrame(data=data)"
   ]
  },
  {
   "cell_type": "code",
   "execution_count": 119,
   "metadata": {},
   "outputs": [
    {
     "name": "stderr",
     "output_type": "stream",
     "text": [
      "/var/folders/2g/hjzhlsnn11n_54l_z9c74h2c0000gn/T/ipykernel_25897/2264928152.py:5: DeprecationWarning: in a future version, string input will be parsed as a column name rather than a string literal. To silence this warning, pass the input as an expression instead: `pl.lit('None')`\n",
      "  .then(\"None\")\n"
     ]
    }
   ],
   "source": [
    "analytics = (\n",
    "    pldf\n",
    "    .with_columns(\n",
    "        pl.when(pl.col(\"price\").str.contains(\"Consultar\"))\n",
    "        .then(\"None\")\n",
    "        .otherwise(pl.col(\"price\"))\n",
    "        .name.keep())\n",
    "    .with_columns([\n",
    "        pl.when(pl.col(pl.Utf8) == \"None\")\n",
    "        .then(None)\n",
    "        .otherwise(pl.col(pl.Utf8))\n",
    "        .name.keep()\n",
    "    ])\n",
    "    .unique(subset=[\"link\"])\n",
    "    .filter(pl.col(\"title\") != \"Sin Titulo Encontrado\")\n",
    "    .filter(pl.col(\"brand\")!=\"Otros\")\n",
    "    .filter(pl.col(\"price\").is_not_null())\n",
    "    .filter(pl.col(\"kilometers\").is_not_null())\n",
    "    .with_columns([\n",
    "        pl.col(\"price\").str.split(\"$\").list.last().str.replace(\",\", \"\").cast(pl.Float32),\n",
    "        pl.col(\"cc\").str.replace(\",\", \"\").str.split(\" \").list.first().str.slice(0, 4).cast(pl.Int32),\n",
    "        pl.col(\"kilometers\").str.replace(\",\", \"\").str.split(\" \").list.first().str.replace(\",\", \"\").cast(pl.Int32),\n",
    "        pl.col(\"title\").str.split(\" \").list.last().alias(\"year_of_manufacture\").cast(pl.Int32),\n",
    "        pl.when(pl.col(\"brand\").is_in(CLEANED_BRAND_NAMES.keys())).then(pl.col(\"brand\").map_dict(CLEANED_BRAND_NAMES)).otherwise(pl.col(\"brand\")).alias(\"brand\")\n",
    "    ])\n",
    "    .filter(pl.col(\"price\") > 1) # some prices are 1, which is not possible\n",
    "    .with_columns(\n",
    "        pl.when(pl.col(\"brand\").is_in(BRAND_PREMIUM_STATUS.keys())).then(pl.col(\"brand\").map_dict(BRAND_PREMIUM_STATUS)).otherwise(None).alias(\"brand_status\"),\n",
    "        pl.when(pl.col(\"brand\").is_in(BRANDS_COUNTRY_CONTINENT.keys())).then(pl.col(\"brand\").map_dict(BRANDS_COUNTRY_CONTINENT)).otherwise(None).alias(\"brand_struct\"),\n",
    "        pl.col(\"year_of_manufacture\").cut([1950, 1980, 2000, 2009, 2014, 2019]).cast(pl.Utf8).alias(\"period_of_manufacture\"),\n",
    "        pl.col(\"kilometers\").cut([10_000, 50_000, 100_000, 180_000]).cast(pl.Utf8).alias(\"kilometers\"),\n",
    "    )\n",
    "    # treat null values in kilometers and cc\n",
    "    .unnest(\"brand_struct\")\n",
    "    .sort(\"parsed_at\", descending=True)\n",
    ")"
   ]
  },
  {
   "cell_type": "markdown",
   "metadata": {},
   "source": [
    "# Clustering"
   ]
  },
  {
   "cell_type": "code",
   "execution_count": 136,
   "metadata": {},
   "outputs": [],
   "source": [
    "cols_to_passthrough = [\"id\", \"parsed_at\"]\n",
    "cols_to_passthrough_test_2 = [\"id\", \"link\", \"parsed_at\", \"price\", \"title\", \"model\", \"version\"]\n",
    "colst_to_ohe = analytics.select(pl.exclude(cols_to_passthrough_test_2)).select(pl.col(pl.Utf8)).columns\n",
    "cols_to_standarize = analytics.select(pl.exclude(cols_to_passthrough_test_2)).select(cs.numeric()).columns"
   ]
  },
  {
   "cell_type": "code",
   "execution_count": 149,
   "metadata": {},
   "outputs": [],
   "source": [
    "from sklearn.pipeline import make_pipeline\n",
    "from sklearn.compose import ColumnTransformer\n",
    "from sklearn.preprocessing import StandardScaler, OneHotEncoder, MinMaxScaler\n",
    "from sklearn.cluster import HDBSCAN\n",
    "from sklearn.impute import KNNImputer\n",
    "\n",
    "# make a pipeline that numeric columns are standardScalered and str are OH encoded, \"id\", \"parsed_at\" are passthrough\n",
    "pipeline = make_pipeline(\n",
    "    ColumnTransformer(\n",
    "        [\n",
    "            # (\"passthrough\", \"passthrough\", cols_to_passthrough),\n",
    "            (\"knn_imputer\", KNNImputer(), [\"cc\"]),\n",
    "            (\"standard_scaler\", MinMaxScaler(), cols_to_standarize),\n",
    "            (\"one_hot_encoder\", OneHotEncoder(), colst_to_ohe)\n",
    "        ]\n",
    "    ),\n",
    "    HDBSCAN()\n",
    ")\n",
    "\n",
    "clusters = pipeline.fit_predict(analytics.to_pandas())"
   ]
  },
  {
   "cell_type": "code",
   "execution_count": 138,
   "metadata": {},
   "outputs": [],
   "source": [
    "# ohe = analytics.select(pl.exclude(cols_to_passthrough_test_2)).select(pl.col(pl.Utf8)).fill_null(\"\").to_dummies()\n",
    "# numeric_cols = analytics.select(pl.exclude(cols_to_passthrough_test_2)).select(cs.numeric()).columns\n",
    "# numeric = analytics.select((pl.col(col)-pl.mean(col))/pl.std(col) for col in numeric_cols)\n",
    "\n",
    "\n",
    "# xddf = pl.concat([ohe, numeric], how=\"horizontal\").to_pandas()"
   ]
  },
  {
   "cell_type": "code",
   "execution_count": 164,
   "metadata": {},
   "outputs": [
    {
     "data": {
      "text/html": [
       "<div><style>\n",
       ".dataframe > thead > tr > th,\n",
       ".dataframe > tbody > tr > td {\n",
       "  text-align: right;\n",
       "  white-space: pre-wrap;\n",
       "}\n",
       "</style>\n",
       "<small>shape: (10, 24)</small><table border=\"1\" class=\"dataframe\"><thead><tr><th>id</th><th>parsed_at</th><th>link</th><th>title</th><th>model</th><th>price</th><th>kilometers</th><th>cc</th><th>fuel_type</th><th>transmission_type</th><th>category</th><th>brand</th><th>version</th><th>year_of_manufacture</th><th>brand_status</th><th>country</th><th>continent</th><th>period_of_manufacture</th><th>cluster</th><th>is_today</th><th>cluster_mean</th><th>cluster_median</th><th>cluster_std</th><th>is_cheap</th></tr><tr><td>i64</td><td>str</td><td>str</td><td>str</td><td>str</td><td>f32</td><td>str</td><td>i32</td><td>str</td><td>str</td><td>str</td><td>str</td><td>str</td><td>i32</td><td>str</td><td>str</td><td>str</td><td>str</td><td>i32</td><td>bool</td><td>i32</td><td>i32</td><td>i32</td><td>bool</td></tr></thead><tbody><tr><td>7100</td><td>&quot;25/11/23 18:04:03&quot;</td><td>&quot;https://www.neoauto.com/auto/usado/nissan-sentra-2017-1758439&quot;</td><td>&quot;Nissan Sentra 2017&quot;</td><td>&quot;Sentra&quot;</td><td>4400.0</td><td>&quot;(10000, 50000]&quot;</td><td>1800</td><td>&quot;Gasolina&quot;</td><td>&quot;Mecánica&quot;</td><td>&quot;Sedan&quot;</td><td>&quot;Nissan&quot;</td><td>null</td><td>2017</td><td>&quot;Normal Brand&quot;</td><td>&quot;Japan&quot;</td><td>&quot;Asia&quot;</td><td>&quot;(2014, 2019]&quot;</td><td>251</td><td>true</td><td>11981</td><td>12310</td><td>3426</td><td>true</td></tr><tr><td>6959</td><td>&quot;25/11/23 18:01:44&quot;</td><td>&quot;https://www.neoauto.com/auto/usado/nissan-sentra-2016-1758543&quot;</td><td>&quot;Nissan Sentra 2016&quot;</td><td>&quot;Sentra&quot;</td><td>9700.0</td><td>&quot;(10000, 50000]&quot;</td><td>1800</td><td>&quot;Gasolina&quot;</td><td>&quot;Automática&quot;</td><td>&quot;Sedan&quot;</td><td>&quot;Nissan&quot;</td><td>null</td><td>2016</td><td>&quot;Normal Brand&quot;</td><td>&quot;Japan&quot;</td><td>&quot;Asia&quot;</td><td>&quot;(2014, 2019]&quot;</td><td>251</td><td>true</td><td>11981</td><td>12310</td><td>3426</td><td>false</td></tr><tr><td>6650</td><td>&quot;22/11/23 18:53:53&quot;</td><td>&quot;https://www.neoauto.com/auto/usado/nissan-sentra-2018-1757939&quot;</td><td>&quot;Nissan Sentra 2018&quot;</td><td>&quot;Sentra&quot;</td><td>14490.0</td><td>&quot;(10000, 50000]&quot;</td><td>1799</td><td>&quot;Gasolina&quot;</td><td>&quot;Automática&quot;</td><td>&quot;Sedan&quot;</td><td>&quot;Nissan&quot;</td><td>null</td><td>2018</td><td>&quot;Normal Brand&quot;</td><td>&quot;Japan&quot;</td><td>&quot;Asia&quot;</td><td>&quot;(2014, 2019]&quot;</td><td>251</td><td>false</td><td>11981</td><td>12310</td><td>3426</td><td>false</td></tr><tr><td>6533</td><td>&quot;19/11/23 13:19:23&quot;</td><td>&quot;https://www.neoauto.com/auto/usado/nissan-sentra-2016-1751257&quot;</td><td>&quot;Nissan Sentra 2016&quot;</td><td>&quot;Sentra&quot;</td><td>10500.0</td><td>&quot;(100000, 180000]&quot;</td><td>1800</td><td>&quot;Gasolina&quot;</td><td>&quot;Mecánica&quot;</td><td>&quot;Sedan&quot;</td><td>&quot;Nissan&quot;</td><td>null</td><td>2016</td><td>&quot;Normal Brand&quot;</td><td>&quot;Japan&quot;</td><td>&quot;Asia&quot;</td><td>&quot;(2014, 2019]&quot;</td><td>251</td><td>false</td><td>11981</td><td>12310</td><td>3426</td><td>false</td></tr><tr><td>6106</td><td>&quot;19/11/23 13:12:17&quot;</td><td>&quot;https://www.neoauto.com/auto/usado/nissan-sentra-2017-1752119&quot;</td><td>&quot;Nissan Sentra 2017&quot;</td><td>&quot;Sentra&quot;</td><td>13200.0</td><td>&quot;(10000, 50000]&quot;</td><td>1800</td><td>&quot;Gasolina&quot;</td><td>&quot;Automática&quot;</td><td>&quot;Sedan&quot;</td><td>&quot;Nissan&quot;</td><td>null</td><td>2017</td><td>&quot;Normal Brand&quot;</td><td>&quot;Japan&quot;</td><td>&quot;Asia&quot;</td><td>&quot;(2014, 2019]&quot;</td><td>251</td><td>false</td><td>11981</td><td>12310</td><td>3426</td><td>false</td></tr><tr><td>4378</td><td>&quot;19/11/23 12:43:34&quot;</td><td>&quot;https://www.neoauto.com/auto/usado/nissan-sentra-2016-1755346&quot;</td><td>&quot;Nissan Sentra 2016&quot;</td><td>&quot;Sentra&quot;</td><td>12300.0</td><td>&quot;(10000, 50000]&quot;</td><td>1800</td><td>&quot;Gasolina&quot;</td><td>&quot;Automática&quot;</td><td>&quot;Sedan&quot;</td><td>&quot;Nissan&quot;</td><td>null</td><td>2016</td><td>&quot;Normal Brand&quot;</td><td>&quot;Japan&quot;</td><td>&quot;Asia&quot;</td><td>&quot;(2014, 2019]&quot;</td><td>251</td><td>false</td><td>11981</td><td>12310</td><td>3426</td><td>false</td></tr><tr><td>1663</td><td>&quot;19/11/23 11:58:21&quot;</td><td>&quot;https://www.neoauto.com/auto/usado/nissan-sentra-2015-1717295&quot;</td><td>&quot;Nissan Sentra 2015&quot;</td><td>&quot;Sentra&quot;</td><td>11900.0</td><td>&quot;(10000, 50000]&quot;</td><td>1800</td><td>&quot;Gasolina&quot;</td><td>&quot;Automática&quot;</td><td>&quot;Sedan&quot;</td><td>&quot;Nissan&quot;</td><td>null</td><td>2015</td><td>&quot;Normal Brand&quot;</td><td>&quot;Japan&quot;</td><td>&quot;Asia&quot;</td><td>&quot;(2014, 2019]&quot;</td><td>251</td><td>false</td><td>11981</td><td>12310</td><td>3426</td><td>false</td></tr><tr><td>1014</td><td>&quot;19/11/23 11:47:19&quot;</td><td>&quot;https://www.neoauto.com/auto/usado/nissan-sentra-2018-1753953&quot;</td><td>&quot;Nissan Sentra 2018&quot;</td><td>&quot;Sentra&quot;</td><td>17500.0</td><td>&quot;(10000, 50000]&quot;</td><td>1800</td><td>&quot;Gasolina&quot;</td><td>&quot;Automática&quot;</td><td>&quot;Sedan&quot;</td><td>&quot;Nissan&quot;</td><td>null</td><td>2018</td><td>&quot;Normal Brand&quot;</td><td>&quot;Japan&quot;</td><td>&quot;Asia&quot;</td><td>&quot;(2014, 2019]&quot;</td><td>251</td><td>false</td><td>11981</td><td>12310</td><td>3426</td><td>false</td></tr><tr><td>353</td><td>&quot;19/11/23 11:36:02&quot;</td><td>&quot;https://www.neoauto.com/auto/usado/nissan-sentra-2016-1749018&quot;</td><td>&quot;Nissan Sentra 2016&quot;</td><td>&quot;Sentra&quot;</td><td>12320.0</td><td>&quot;(10000, 50000]&quot;</td><td>1800</td><td>&quot;Gasolina&quot;</td><td>&quot;Automática&quot;</td><td>&quot;Sedan&quot;</td><td>&quot;Nissan&quot;</td><td>null</td><td>2016</td><td>&quot;Normal Brand&quot;</td><td>&quot;Japan&quot;</td><td>&quot;Asia&quot;</td><td>&quot;(2014, 2019]&quot;</td><td>251</td><td>false</td><td>11981</td><td>12310</td><td>3426</td><td>false</td></tr><tr><td>271</td><td>&quot;19/11/23 11:34:40&quot;</td><td>&quot;https://www.neoauto.com/auto/usado/nissan-sentra-2015-1756138&quot;</td><td>&quot;Nissan Sentra 2015&quot;</td><td>&quot;Sentra&quot;</td><td>13500.0</td><td>&quot;(10000, 50000]&quot;</td><td>1800</td><td>&quot;Gasolina&quot;</td><td>&quot;Automática&quot;</td><td>&quot;Sedan&quot;</td><td>&quot;Nissan&quot;</td><td>null</td><td>2015</td><td>&quot;Normal Brand&quot;</td><td>&quot;Japan&quot;</td><td>&quot;Asia&quot;</td><td>&quot;(2014, 2019]&quot;</td><td>251</td><td>false</td><td>11981</td><td>12310</td><td>3426</td><td>false</td></tr></tbody></table></div>"
      ],
      "text/plain": [
       "shape: (10, 24)\n",
       "┌──────┬─────────────┬─────────────┬────────┬───┬─────────────┬────────────┬────────────┬──────────┐\n",
       "│ id   ┆ parsed_at   ┆ link        ┆ title  ┆ … ┆ cluster_mea ┆ cluster_me ┆ cluster_st ┆ is_cheap │\n",
       "│ ---  ┆ ---         ┆ ---         ┆ ---    ┆   ┆ n           ┆ dian       ┆ d          ┆ ---      │\n",
       "│ i64  ┆ str         ┆ str         ┆ str    ┆   ┆ ---         ┆ ---        ┆ ---        ┆ bool     │\n",
       "│      ┆             ┆             ┆        ┆   ┆ i32         ┆ i32        ┆ i32        ┆          │\n",
       "╞══════╪═════════════╪═════════════╪════════╪═══╪═════════════╪════════════╪════════════╪══════════╡\n",
       "│ 7100 ┆ 25/11/23    ┆ https://www ┆ Nissan ┆ … ┆ 11981       ┆ 12310      ┆ 3426       ┆ true     │\n",
       "│      ┆ 18:04:03    ┆ .neoauto.co ┆ Sentra ┆   ┆             ┆            ┆            ┆          │\n",
       "│      ┆             ┆ m/auto/usad ┆ 2017   ┆   ┆             ┆            ┆            ┆          │\n",
       "│      ┆             ┆ o/nissan-se ┆        ┆   ┆             ┆            ┆            ┆          │\n",
       "│      ┆             ┆ ntra-2017-1 ┆        ┆   ┆             ┆            ┆            ┆          │\n",
       "│      ┆             ┆ 758439      ┆        ┆   ┆             ┆            ┆            ┆          │\n",
       "│ 6959 ┆ 25/11/23    ┆ https://www ┆ Nissan ┆ … ┆ 11981       ┆ 12310      ┆ 3426       ┆ false    │\n",
       "│      ┆ 18:01:44    ┆ .neoauto.co ┆ Sentra ┆   ┆             ┆            ┆            ┆          │\n",
       "│      ┆             ┆ m/auto/usad ┆ 2016   ┆   ┆             ┆            ┆            ┆          │\n",
       "│      ┆             ┆ o/nissan-se ┆        ┆   ┆             ┆            ┆            ┆          │\n",
       "│      ┆             ┆ ntra-2016-1 ┆        ┆   ┆             ┆            ┆            ┆          │\n",
       "│      ┆             ┆ 758543      ┆        ┆   ┆             ┆            ┆            ┆          │\n",
       "│ 6650 ┆ 22/11/23    ┆ https://www ┆ Nissan ┆ … ┆ 11981       ┆ 12310      ┆ 3426       ┆ false    │\n",
       "│      ┆ 18:53:53    ┆ .neoauto.co ┆ Sentra ┆   ┆             ┆            ┆            ┆          │\n",
       "│      ┆             ┆ m/auto/usad ┆ 2018   ┆   ┆             ┆            ┆            ┆          │\n",
       "│      ┆             ┆ o/nissan-se ┆        ┆   ┆             ┆            ┆            ┆          │\n",
       "│      ┆             ┆ ntra-2018-1 ┆        ┆   ┆             ┆            ┆            ┆          │\n",
       "│      ┆             ┆ 757939      ┆        ┆   ┆             ┆            ┆            ┆          │\n",
       "│ 6533 ┆ 19/11/23    ┆ https://www ┆ Nissan ┆ … ┆ 11981       ┆ 12310      ┆ 3426       ┆ false    │\n",
       "│      ┆ 13:19:23    ┆ .neoauto.co ┆ Sentra ┆   ┆             ┆            ┆            ┆          │\n",
       "│      ┆             ┆ m/auto/usad ┆ 2016   ┆   ┆             ┆            ┆            ┆          │\n",
       "│      ┆             ┆ o/nissan-se ┆        ┆   ┆             ┆            ┆            ┆          │\n",
       "│      ┆             ┆ ntra-2016-1 ┆        ┆   ┆             ┆            ┆            ┆          │\n",
       "│      ┆             ┆ 751257      ┆        ┆   ┆             ┆            ┆            ┆          │\n",
       "│ …    ┆ …           ┆ …           ┆ …      ┆ … ┆ …           ┆ …          ┆ …          ┆ …        │\n",
       "│ 1663 ┆ 19/11/23    ┆ https://www ┆ Nissan ┆ … ┆ 11981       ┆ 12310      ┆ 3426       ┆ false    │\n",
       "│      ┆ 11:58:21    ┆ .neoauto.co ┆ Sentra ┆   ┆             ┆            ┆            ┆          │\n",
       "│      ┆             ┆ m/auto/usad ┆ 2015   ┆   ┆             ┆            ┆            ┆          │\n",
       "│      ┆             ┆ o/nissan-se ┆        ┆   ┆             ┆            ┆            ┆          │\n",
       "│      ┆             ┆ ntra-2015-1 ┆        ┆   ┆             ┆            ┆            ┆          │\n",
       "│      ┆             ┆ 717295      ┆        ┆   ┆             ┆            ┆            ┆          │\n",
       "│ 1014 ┆ 19/11/23    ┆ https://www ┆ Nissan ┆ … ┆ 11981       ┆ 12310      ┆ 3426       ┆ false    │\n",
       "│      ┆ 11:47:19    ┆ .neoauto.co ┆ Sentra ┆   ┆             ┆            ┆            ┆          │\n",
       "│      ┆             ┆ m/auto/usad ┆ 2018   ┆   ┆             ┆            ┆            ┆          │\n",
       "│      ┆             ┆ o/nissan-se ┆        ┆   ┆             ┆            ┆            ┆          │\n",
       "│      ┆             ┆ ntra-2018-1 ┆        ┆   ┆             ┆            ┆            ┆          │\n",
       "│      ┆             ┆ 753953      ┆        ┆   ┆             ┆            ┆            ┆          │\n",
       "│ 353  ┆ 19/11/23    ┆ https://www ┆ Nissan ┆ … ┆ 11981       ┆ 12310      ┆ 3426       ┆ false    │\n",
       "│      ┆ 11:36:02    ┆ .neoauto.co ┆ Sentra ┆   ┆             ┆            ┆            ┆          │\n",
       "│      ┆             ┆ m/auto/usad ┆ 2016   ┆   ┆             ┆            ┆            ┆          │\n",
       "│      ┆             ┆ o/nissan-se ┆        ┆   ┆             ┆            ┆            ┆          │\n",
       "│      ┆             ┆ ntra-2016-1 ┆        ┆   ┆             ┆            ┆            ┆          │\n",
       "│      ┆             ┆ 749018      ┆        ┆   ┆             ┆            ┆            ┆          │\n",
       "│ 271  ┆ 19/11/23    ┆ https://www ┆ Nissan ┆ … ┆ 11981       ┆ 12310      ┆ 3426       ┆ false    │\n",
       "│      ┆ 11:34:40    ┆ .neoauto.co ┆ Sentra ┆   ┆             ┆            ┆            ┆          │\n",
       "│      ┆             ┆ m/auto/usad ┆ 2015   ┆   ┆             ┆            ┆            ┆          │\n",
       "│      ┆             ┆ o/nissan-se ┆        ┆   ┆             ┆            ┆            ┆          │\n",
       "│      ┆             ┆ ntra-2015-1 ┆        ┆   ┆             ┆            ┆            ┆          │\n",
       "│      ┆             ┆ 756138      ┆        ┆   ┆             ┆            ┆            ┆          │\n",
       "└──────┴─────────────┴─────────────┴────────┴───┴─────────────┴────────────┴────────────┴──────────┘"
      ]
     },
     "execution_count": 164,
     "metadata": {},
     "output_type": "execute_result"
    }
   ],
   "source": [
    "format = \"%d/%m/%y %H:%M:%S\"\n",
    "\n",
    "(\n",
    "    analytics\n",
    "    .with_columns(pl.Series(\"cluster\", clusters))\n",
    "    .filter(pl.col(\"cluster\") > 0)\n",
    "    .with_columns(((datetime.datetime.now() - pl.col(\"parsed_at\").str.strptime(pl.Datetime, format)).dt.total_hours() < 24).alias(\"is_today\"))\n",
    "    .with_columns(\n",
    "                  pl.col(\"price\").mean().over('cluster').alias(\"cluster_mean\").cast(pl.Int32),\n",
    "                  pl.col(\"price\").median().over('cluster').alias(\"cluster_median\").cast(pl.Int32),\n",
    "                  pl.col(\"price\").std().over('cluster').alias(\"cluster_std\").cast(pl.Int32),\n",
    "    )\n",
    "    .with_columns(((pl.col(\"price\") < pl.col(\"cluster_median\")*0.4)).alias(\"is_cheap\"))\n",
    "    .filter(pl.col(\"cluster\") == 251)\n",
    "    .sort(\"is_cheap\", descending=True)\n",
    "    # .filter(pl.col(\"is_cheap\") & pl.col(\"is_today\"))\n",
    "    # .get_column(\"cluster\")\n",
    "    # .unique()\n",
    "    # .to_list()\n",
    ")"
   ]
  },
  {
   "cell_type": "code",
   "execution_count": null,
   "metadata": {},
   "outputs": [],
   "source": [
    "[17, 20, 49, 131, 251]"
   ]
  }
 ],
 "metadata": {
  "kernelspec": {
   "display_name": ".venv",
   "language": "python",
   "name": "python3"
  },
  "language_info": {
   "codemirror_mode": {
    "name": "ipython",
    "version": 3
   },
   "file_extension": ".py",
   "mimetype": "text/x-python",
   "name": "python",
   "nbconvert_exporter": "python",
   "pygments_lexer": "ipython3",
   "version": "3.10.8"
  }
 },
 "nbformat": 4,
 "nbformat_minor": 2
}
